{
 "cells": [
  {
   "cell_type": "code",
   "execution_count": 7,
   "metadata": {},
   "outputs": [
    {
     "data": {
      "text/plain": [
       "[1, 3]"
      ]
     },
     "execution_count": 7,
     "metadata": {},
     "output_type": "execute_result"
    }
   ],
   "source": [
    "some_list = list(range(6))\n",
    "some_list[:]#全要素\n",
    "some_list[1:4]#1から4の手前まで\n",
    "some_list[1:]#1以降\n",
    "some_list[:4]#最初から4の手前まで\n",
    "some_list[:-1]#最初から最後の1つ手前まで\n",
    "some_list[1:4:2]#1から4の手前まで2つ置きに"
   ]
  },
  {
   "cell_type": "code",
   "execution_count": 3,
   "metadata": {},
   "outputs": [],
   "source": [
    "import torch"
   ]
  },
  {
   "cell_type": "code",
   "execution_count": null,
   "metadata": {},
   "outputs": [],
   "source": [
    "points = torch.tensor([1.5, 3.5, 4.0, 5.0, 1.5])\n",
    "points[1:]#行1以降を指定、暗に列も全部指定\n",
    "points[1:, :]#行1以降を指定、陽に列も全部指定\n",
    "points[1:, 0]#行1以降で列0のすべてを指定\n",
    "points[None] #新たな次元を追加。unsqueezeと同じ働き"
   ]
  },
  {
   "cell_type": "code",
   "execution_count": null,
   "metadata": {},
   "outputs": [],
   "source": []
  }
 ],
 "metadata": {
  "kernelspec": {
   "display_name": "Python 3",
   "language": "python",
   "name": "python3"
  },
  "language_info": {
   "codemirror_mode": {
    "name": "ipython",
    "version": 3
   },
   "file_extension": ".py",
   "mimetype": "text/x-python",
   "name": "python",
   "nbconvert_exporter": "python",
   "pygments_lexer": "ipython3",
   "version": "3.10.6"
  },
  "orig_nbformat": 4
 },
 "nbformat": 4,
 "nbformat_minor": 2
}
