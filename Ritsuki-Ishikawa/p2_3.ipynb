{
 "cells": [
  {
   "cell_type": "code",
   "execution_count": null,
   "metadata": {},
   "outputs": [],
   "source": [
    "dependencies = ['torch', 'math']\n",
    "\n",
    "def some_entry_fn(*args, **kwargs):\n",
    "    model = build_some_model(*args, **kwargs)\n",
    "    return model\n",
    "\n",
    "def another_entry_fn(*args, **kwargs):\n",
    "    model = build_another_model(*args, **kwargs)\n",
    "    return model"
   ]
  },
  {
   "cell_type": "code",
   "execution_count": null,
   "metadata": {},
   "outputs": [],
   "source": [
    "import torch\n",
    "from torch import hub\n",
    "\n",
    "resnet18_model = hub.load('pytorch/vision:master',\n",
    "                          'resnet18',\n",
    "                          pretrained=True)"
   ]
  }
 ],
 "metadata": {
  "language_info": {
   "name": "python"
  },
  "orig_nbformat": 4
 },
 "nbformat": 4,
 "nbformat_minor": 2
}
