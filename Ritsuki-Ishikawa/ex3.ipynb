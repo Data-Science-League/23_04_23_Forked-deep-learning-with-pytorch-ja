{
  "cells": [
    {
      "cell_type": "markdown",
      "metadata": {
        "id": "WehYXzWpwhi1"
      },
      "source": [
        "第3章の章末演習問題"
      ]
    },
    {
      "cell_type": "markdown",
      "metadata": {
        "id": "lRoPRKcMwlbZ"
      },
      "source": [
        "### [1] list(range(9))からテンソルaを作成して、サイズ、オフセット、ストライドを確認してください。\n",
        "※ ここではGoogle Colaraboratoryでの実行を想定しています。\n"
      ]
    },
    {
      "cell_type": "markdown",
      "metadata": {
        "id": "FSZC8BAJw9A-"
      },
      "source": [
        "#### （a） b = a.view(3, 3)を使って新しいテンソルを作成します。viewはどんな動作をするのか？またaとbが同じストレージを共有していることを確認してください。"
      ]
    },
    {
      "cell_type": "code",
      "execution_count": 2,
      "metadata": {
        "id": "kduB0LXvxL0b"
      },
      "outputs": [],
      "source": [
        "# 回答\n",
        "import torch"
      ]
    },
    {
      "cell_type": "code",
      "execution_count": 22,
      "metadata": {},
      "outputs": [
        {
          "name": "stdout",
          "output_type": "stream",
          "text": [
            "size: torch.Size([9])\n",
            "offset 0\n",
            "stride (1,)\n"
          ]
        }
      ],
      "source": [
        "a = torch.tensor(list(range(9)))\n",
        "print(\"size:\",a.size())\n",
        "print(\"offset\",a.storage_offset())\n",
        "print(\"stride\",a.stride())"
      ]
    },
    {
      "cell_type": "code",
      "execution_count": 14,
      "metadata": {},
      "outputs": [
        {
          "name": "stdout",
          "output_type": "stream",
          "text": [
            "True\n"
          ]
        }
      ],
      "source": [
        "b = a.view(3,3)\n",
        "\n",
        "print(id(a.storage) == id(b.storage))\n"
      ]
    },
    {
      "cell_type": "markdown",
      "metadata": {
        "id": "YO24ioODyKtO"
      },
      "source": [
        "#### （b） テンソル c = b[1:,1:]を作成し、サイズ、オフセット、ストライドを確認してください"
      ]
    },
    {
      "cell_type": "code",
      "execution_count": 20,
      "metadata": {
        "id": "U_7dlCScyWYr"
      },
      "outputs": [
        {
          "name": "stdout",
          "output_type": "stream",
          "text": [
            "c: tensor([[4, 5],\n",
            "        [7, 8]])\n",
            "size: torch.Size([2, 2])\n",
            "offset 4\n",
            "stride (3, 1)\n"
          ]
        }
      ],
      "source": [
        "# 回答\n",
        "c = b[1:,1:]\n",
        "print(\"c:\",c)\n",
        "print(\"size:\",c.size())\n",
        "print(\"offset\",c.storage_offset())\n",
        "print(\"stride\",c.stride())\n"
      ]
    },
    {
      "cell_type": "markdown",
      "metadata": {
        "id": "EdWttSfHzGKz"
      },
      "source": [
        "### [2] torch ライブラリからcosineやsquare rootのような数学の演算に対応する関数を見つけてください。"
      ]
    },
    {
      "cell_type": "markdown",
      "metadata": {
        "id": "9yzctZuLzODR"
      },
      "source": [
        "#### （a） 関数を要素ごとに変数aに適用してください。なぜエラーが発生するのでしょう？"
      ]
    },
    {
      "cell_type": "code",
      "execution_count": 28,
      "metadata": {
        "id": "DFq3TaQBy-ZE"
      },
      "outputs": [
        {
          "name": "stdout",
          "output_type": "stream",
          "text": [
            "torch.int64\n",
            "tensor([ 1.0000,  0.5403, -0.4161, -0.9900, -0.6536,  0.2837,  0.9602,  0.7539,\n",
            "        -0.1455])\n",
            "tensor([0.0000, 1.0000, 1.4142, 1.7321, 2.0000, 2.2361, 2.4495, 2.6458, 2.8284])\n"
          ]
        }
      ],
      "source": [
        "# 回答\n",
        "print(a.dtype)\n",
        "print(torch.cos(a))\n",
        "print(torch.sqrt(a))\n"
      ]
    },
    {
      "cell_type": "markdown",
      "metadata": {
        "id": "OBEZN-2gzy-P"
      },
      "source": [
        "#### （b） 関数を実行可能にするために、どのような操作が必要なのでしょうか？"
      ]
    },
    {
      "cell_type": "code",
      "execution_count": 29,
      "metadata": {
        "id": "4e-l9C2S5Ihj"
      },
      "outputs": [
        {
          "name": "stdout",
          "output_type": "stream",
          "text": [
            "tensor([ 1.0000,  0.5403, -0.4161, -0.9900, -0.6536,  0.2837,  0.9602,  0.7539,\n",
            "        -0.1455])\n",
            "tensor([0.0000, 1.0000, 1.4142, 1.7321, 2.0000, 2.2361, 2.4495, 2.6458, 2.8284])\n"
          ]
        }
      ],
      "source": [
        "# 回答\n",
        "print(torch.cos(a.float()))\n",
        "print(torch.sqrt(a.float()))"
      ]
    },
    {
      "cell_type": "markdown",
      "metadata": {
        "id": "Ei2PjV2b1pVy"
      },
      "source": [
        "#### （c） 何か自作の関数があれば、動かしてみましょう。"
      ]
    },
    {
      "cell_type": "code",
      "execution_count": null,
      "metadata": {
        "id": "6ij9x9461uDC"
      },
      "outputs": [],
      "source": [
        "# 省略"
      ]
    },
    {
      "cell_type": "markdown",
      "metadata": {
        "id": "6RKZsWxPz6kz"
      },
      "source": [
        "以上。\n"
      ]
    }
  ],
  "metadata": {
    "colab": {
      "collapsed_sections": [],
      "name": "第3章_章末演習問題.ipynb",
      "provenance": []
    },
    "kernelspec": {
      "display_name": "Python 3",
      "name": "python3"
    },
    "language_info": {
      "codemirror_mode": {
        "name": "ipython",
        "version": 3
      },
      "file_extension": ".py",
      "mimetype": "text/x-python",
      "name": "python",
      "nbconvert_exporter": "python",
      "pygments_lexer": "ipython3",
      "version": "3.10.6"
    }
  },
  "nbformat": 4,
  "nbformat_minor": 0
}
